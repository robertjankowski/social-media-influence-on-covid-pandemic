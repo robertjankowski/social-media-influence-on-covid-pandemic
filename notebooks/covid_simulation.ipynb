{
 "cells": [
  {
   "cell_type": "markdown",
   "metadata": {
    "collapsed": true,
    "pycharm": {
     "name": "#%% md\n"
    }
   },
   "source": [
    "# Simulation of COVID pandemic on bilayer network\n"
   ]
  },
  {
   "cell_type": "code",
   "execution_count": 1,
   "outputs": [],
   "source": [
    "%load_ext autoreload\n",
    "%autoreload 2\n",
    "\n",
    "from scripts.network import create_bilayer_network\n",
    "from scripts.epidemic_layer import initialize_epidemic\n",
    "from scripts.virtual_layer import initialize_virtual\n",
    "\n",
    "import networkx as nx\n",
    "\n",
    "import scripts.visualization as viz\n",
    "\n",
    "viz.load_matplotlib()\n",
    "plt = viz.plt\n",
    "\n",
    "N_AGENTS = 100\n",
    "N_ADDITIONAL_VIRTUAL_LINKS = 300\n",
    "INIT_INFECTED_FRACTION = 0.2\n",
    "INIT_AWARE_FRACTION = 0.3\n",
    "\n",
    "l1_layer, l2_layer = create_bilayer_network(N_AGENTS, N_ADDITIONAL_VIRTUAL_LINKS)"
   ],
   "metadata": {
    "collapsed": false,
    "pycharm": {
     "name": "#%%\n",
     "is_executing": false
    }
   }
  },
  {
   "cell_type": "code",
   "execution_count": 4,
   "outputs": [],
   "source": [
    "l1_layer_init = initialize_epidemic(l1_layer, INIT_INFECTED_FRACTION)\n",
    "l2_layer_init = initialize_virtual(l2_layer, INIT_AWARE_FRACTION)"
   ],
   "metadata": {
    "collapsed": false,
    "pycharm": {
     "name": "#%%\n",
     "is_executing": false
    }
   }
  },
  {
   "cell_type": "code",
   "execution_count": null,
   "outputs": [],
   "source": [
    "pos = nx.spring_layout(l1_layer, k=0.05, iterations=200)\n",
    "fig, axs = plt.subplots(1, 2, figsize=(12, 6))\n",
    "\n",
    "viz.draw_epidemic_layer(l1_layer_init, pos=pos, ax=axs[0], node_border_width=1.0)\n",
    "axs[0].set_axis_off()\n",
    "axs[0].set_title('Physical Contacts Layer')\n",
    "axs[0].legend()\n",
    "\n",
    "viz.draw_virtual_layer(l2_layer_init, pos=pos, ax=axs[1], node_border_width=1.0)\n",
    "axs[1].set_title('Virtual Contacts Layer')\n",
    "axs[1].set_axis_off()\n",
    "axs[1].legend()\n",
    "\n",
    "viz.save_figure(\"../plots/initial_network_state.png\")"
   ],
   "metadata": {
    "collapsed": false,
    "pycharm": {
     "name": "#%%\n",
     "is_executing": false
    }
   }
  },
  {
   "cell_type": "code",
   "execution_count": 4,
   "outputs": [],
   "source": [
    "# TODO - simple l1 and l2 layer simulations ... \n"
   ],
   "metadata": {
    "collapsed": false,
    "pycharm": {
     "name": "#%%\n",
     "is_executing": false
    }
   }
  },
  {
   "cell_type": "code",
   "execution_count": 50,
   "outputs": [],
   "source": [
    "from scripts.age_statistics import generate_from_age_gender_distribution\n",
    "\n",
    "males = generate_from_age_gender_distribution(int(16e6), 'M')\n",
    "females = generate_from_age_gender_distribution(int(16e6), 'F')"
   ],
   "metadata": {
    "collapsed": false,
    "pycharm": {
     "name": "#%%\n",
     "is_executing": false
    }
   }
  },
  {
   "cell_type": "code",
   "execution_count": 51,
   "outputs": [
    {
     "data": {
      "text/plain": "<Figure size 576x432 with 1 Axes>",
      "image/png": "[encoded data removed]"
     },
     "metadata": {
      "needs_background": "light"
     },
     "output_type": "display_data"
    }
   ],
   "source": [
    "plt.hist(males, bins=100, alpha=0.5, label='Males')\n",
    "plt.hist(females, bins=100, alpha=0.5, label='Females')\n",
    "plt.xlabel('Age')\n",
    "plt.ylabel('Population')\n",
    "plt.title('Population structure in Poland (2020)')\n",
    "plt.legend()\n",
    "plt.show()"
   ],
   "metadata": {
    "collapsed": false,
    "pycharm": {
     "name": "#%%\n",
     "is_executing": false
    }
   }
  },
  {
   "cell_type": "code",
   "execution_count": null,
   "outputs": [],
   "source": [
    "\n"
   ],
   "metadata": {
    "collapsed": false,
    "pycharm": {
     "name": "#%%\n"
    }
   }
  }
 ],
 "metadata": {
  "kernelspec": {
   "display_name": "Python 3",
   "language": "python",
   "name": "python3"
  },
  "language_info": {
   "codemirror_mode": {
    "name": "ipython",
    "version": 2
   },
   "file_extension": ".py",
   "mimetype": "text/x-python",
   "name": "python",
   "nbconvert_exporter": "python",
   "pygments_lexer": "ipython2",
   "version": "2.7.6"
  },
  "pycharm": {
   "stem_cell": {
    "cell_type": "raw",
    "source": [],
    "metadata": {
     "collapsed": false
    }
   }
  }
 },
 "nbformat": 4,
 "nbformat_minor": 0
}