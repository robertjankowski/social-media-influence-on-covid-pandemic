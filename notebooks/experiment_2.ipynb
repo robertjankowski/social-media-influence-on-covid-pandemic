{
 "cells": [
  {
   "cell_type": "code",
   "execution_count": null,
   "metadata": {},
   "outputs": [
    {
     "name": "stderr",
     "output_type": "stream",
     "text": [
      "  0%|          | 0/10 [00:00<?, ?it/s]\n",
      "  0%|          | 0/10 [00:00<?, ?it/s]\u001b[A"
     ]
    },
    {
     "name": "stdout",
     "output_type": "stream",
     "text": [
      "The autoreload extension is already loaded. To reload it, use:\n",
      "  %reload_ext autoreload\n",
      "PhysicalLayerParameters(p_beta=0.5, p_gamma=0.2, p_mu=0.85) VirtualLayerParameters(p_lambda=0.01, p_delta=0.99) QVoterParameters(q=4, p_p=0.5, p_epsilon=0.3)\n"
     ]
    }
   ],
   "source": [
    "%load_ext autoreload\n",
    "%autoreload 2\n",
    "\n",
    "import sys\n",
    "sys.path.append('../')\n",
    "\n",
    "import numpy as np\n",
    "from scripts.experiments import experiment2\n",
    "\n",
    "ns = np.power(10, np.arange(0, 10))\n",
    "xis = np.linspace(0, 1, 10)\n",
    "\n",
    "experiment2(xis, ns, '_experiment2_small_tmp.csv', n_runs=100)"
   ]
  }
 ],
 "metadata": {
  "kernelspec": {
   "display_name": "Python 3",
   "language": "python",
   "name": "python3"
  },
  "language_info": {
   "codemirror_mode": {
    "name": "ipython",
    "version": 3
   },
   "file_extension": ".py",
   "mimetype": "text/x-python",
   "name": "python",
   "nbconvert_exporter": "python",
   "pygments_lexer": "ipython3",
   "version": "3.7.9"
  }
 },
 "nbformat": 4,
 "nbformat_minor": 4
}
